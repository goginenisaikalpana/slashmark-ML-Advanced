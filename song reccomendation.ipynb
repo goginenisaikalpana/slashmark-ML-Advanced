{
 "cells": [
  {
   "cell_type": "code",
   "execution_count": 51,
   "id": "13cbcb6a",
   "metadata": {},
   "outputs": [],
   "source": [
    "import pandas as pd\n",
    "import numpy as np\n",
    "import pickle\n",
    "import warnings\n",
    "warnings.filterwarnings(\"ignore\")"
   ]
  },
  {
   "cell_type": "code",
   "execution_count": 52,
   "id": "505da2ea",
   "metadata": {},
   "outputs": [
    {
     "data": {
      "text/html": [
       "<div>\n",
       "<style scoped>\n",
       "    .dataframe tbody tr th:only-of-type {\n",
       "        vertical-align: middle;\n",
       "    }\n",
       "\n",
       "    .dataframe tbody tr th {\n",
       "        vertical-align: top;\n",
       "    }\n",
       "\n",
       "    .dataframe thead th {\n",
       "        text-align: right;\n",
       "    }\n",
       "</style>\n",
       "<table border=\"1\" class=\"dataframe\">\n",
       "  <thead>\n",
       "    <tr style=\"text-align: right;\">\n",
       "      <th></th>\n",
       "      <th>artist</th>\n",
       "      <th>song</th>\n",
       "      <th>link</th>\n",
       "      <th>text</th>\n",
       "    </tr>\n",
       "  </thead>\n",
       "  <tbody>\n",
       "    <tr>\n",
       "      <th>0</th>\n",
       "      <td>ABBA</td>\n",
       "      <td>Ahe's My Kind Of Girl</td>\n",
       "      <td>/a/abba/ahes+my+kind+of+girl_20598417.html</td>\n",
       "      <td>Look at her face, it's a wonderful face  \\nAnd...</td>\n",
       "    </tr>\n",
       "    <tr>\n",
       "      <th>1</th>\n",
       "      <td>ABBA</td>\n",
       "      <td>Andante, Andante</td>\n",
       "      <td>/a/abba/andante+andante_20002708.html</td>\n",
       "      <td>Take it easy with me, please  \\nTouch me gentl...</td>\n",
       "    </tr>\n",
       "    <tr>\n",
       "      <th>2</th>\n",
       "      <td>ABBA</td>\n",
       "      <td>As Good As New</td>\n",
       "      <td>/a/abba/as+good+as+new_20003033.html</td>\n",
       "      <td>I'll never know why I had to go  \\nWhy I had t...</td>\n",
       "    </tr>\n",
       "    <tr>\n",
       "      <th>3</th>\n",
       "      <td>ABBA</td>\n",
       "      <td>Bang</td>\n",
       "      <td>/a/abba/bang_20598415.html</td>\n",
       "      <td>Making somebody happy is a question of give an...</td>\n",
       "    </tr>\n",
       "    <tr>\n",
       "      <th>4</th>\n",
       "      <td>ABBA</td>\n",
       "      <td>Bang-A-Boomerang</td>\n",
       "      <td>/a/abba/bang+a+boomerang_20002668.html</td>\n",
       "      <td>Making somebody happy is a question of give an...</td>\n",
       "    </tr>\n",
       "    <tr>\n",
       "      <th>...</th>\n",
       "      <td>...</td>\n",
       "      <td>...</td>\n",
       "      <td>...</td>\n",
       "      <td>...</td>\n",
       "    </tr>\n",
       "    <tr>\n",
       "      <th>57645</th>\n",
       "      <td>Ziggy Marley</td>\n",
       "      <td>Good Old Days</td>\n",
       "      <td>/z/ziggy+marley/good+old+days_10198588.html</td>\n",
       "      <td>Irie days come on play  \\nLet the angels fly l...</td>\n",
       "    </tr>\n",
       "    <tr>\n",
       "      <th>57646</th>\n",
       "      <td>Ziggy Marley</td>\n",
       "      <td>Hand To Mouth</td>\n",
       "      <td>/z/ziggy+marley/hand+to+mouth_20531167.html</td>\n",
       "      <td>Power to the workers  \\nMore power  \\nPower to...</td>\n",
       "    </tr>\n",
       "    <tr>\n",
       "      <th>57647</th>\n",
       "      <td>Zwan</td>\n",
       "      <td>Come With Me</td>\n",
       "      <td>/z/zwan/come+with+me_20148981.html</td>\n",
       "      <td>all you need  \\nis something i'll believe  \\nf...</td>\n",
       "    </tr>\n",
       "    <tr>\n",
       "      <th>57648</th>\n",
       "      <td>Zwan</td>\n",
       "      <td>Desire</td>\n",
       "      <td>/z/zwan/desire_20148986.html</td>\n",
       "      <td>northern star  \\nam i frightened  \\nwhere can ...</td>\n",
       "    </tr>\n",
       "    <tr>\n",
       "      <th>57649</th>\n",
       "      <td>Zwan</td>\n",
       "      <td>Heartsong</td>\n",
       "      <td>/z/zwan/heartsong_20148991.html</td>\n",
       "      <td>come in  \\nmake yourself at home  \\ni'm a bit ...</td>\n",
       "    </tr>\n",
       "  </tbody>\n",
       "</table>\n",
       "<p>57650 rows × 4 columns</p>\n",
       "</div>"
      ],
      "text/plain": [
       "             artist                   song  \\\n",
       "0              ABBA  Ahe's My Kind Of Girl   \n",
       "1              ABBA       Andante, Andante   \n",
       "2              ABBA         As Good As New   \n",
       "3              ABBA                   Bang   \n",
       "4              ABBA       Bang-A-Boomerang   \n",
       "...             ...                    ...   \n",
       "57645  Ziggy Marley          Good Old Days   \n",
       "57646  Ziggy Marley          Hand To Mouth   \n",
       "57647          Zwan           Come With Me   \n",
       "57648          Zwan                 Desire   \n",
       "57649          Zwan              Heartsong   \n",
       "\n",
       "                                              link  \\\n",
       "0       /a/abba/ahes+my+kind+of+girl_20598417.html   \n",
       "1            /a/abba/andante+andante_20002708.html   \n",
       "2             /a/abba/as+good+as+new_20003033.html   \n",
       "3                       /a/abba/bang_20598415.html   \n",
       "4           /a/abba/bang+a+boomerang_20002668.html   \n",
       "...                                            ...   \n",
       "57645  /z/ziggy+marley/good+old+days_10198588.html   \n",
       "57646  /z/ziggy+marley/hand+to+mouth_20531167.html   \n",
       "57647           /z/zwan/come+with+me_20148981.html   \n",
       "57648                 /z/zwan/desire_20148986.html   \n",
       "57649              /z/zwan/heartsong_20148991.html   \n",
       "\n",
       "                                                    text  \n",
       "0      Look at her face, it's a wonderful face  \\nAnd...  \n",
       "1      Take it easy with me, please  \\nTouch me gentl...  \n",
       "2      I'll never know why I had to go  \\nWhy I had t...  \n",
       "3      Making somebody happy is a question of give an...  \n",
       "4      Making somebody happy is a question of give an...  \n",
       "...                                                  ...  \n",
       "57645  Irie days come on play  \\nLet the angels fly l...  \n",
       "57646  Power to the workers  \\nMore power  \\nPower to...  \n",
       "57647  all you need  \\nis something i'll believe  \\nf...  \n",
       "57648  northern star  \\nam i frightened  \\nwhere can ...  \n",
       "57649  come in  \\nmake yourself at home  \\ni'm a bit ...  \n",
       "\n",
       "[57650 rows x 4 columns]"
      ]
     },
     "execution_count": 52,
     "metadata": {},
     "output_type": "execute_result"
    }
   ],
   "source": [
    "songdata=pd.read_csv(\"songdata.csv\")\n",
    "songdata"
   ]
  },
  {
   "cell_type": "code",
   "execution_count": 53,
   "id": "42e649b2",
   "metadata": {},
   "outputs": [
    {
     "data": {
      "text/html": [
       "<div>\n",
       "<style scoped>\n",
       "    .dataframe tbody tr th:only-of-type {\n",
       "        vertical-align: middle;\n",
       "    }\n",
       "\n",
       "    .dataframe tbody tr th {\n",
       "        vertical-align: top;\n",
       "    }\n",
       "\n",
       "    .dataframe thead th {\n",
       "        text-align: right;\n",
       "    }\n",
       "</style>\n",
       "<table border=\"1\" class=\"dataframe\">\n",
       "  <thead>\n",
       "    <tr style=\"text-align: right;\">\n",
       "      <th></th>\n",
       "      <th>artist</th>\n",
       "      <th>song</th>\n",
       "      <th>link</th>\n",
       "      <th>text</th>\n",
       "    </tr>\n",
       "  </thead>\n",
       "  <tbody>\n",
       "    <tr>\n",
       "      <th>0</th>\n",
       "      <td>ABBA</td>\n",
       "      <td>Ahe's My Kind Of Girl</td>\n",
       "      <td>/a/abba/ahes+my+kind+of+girl_20598417.html</td>\n",
       "      <td>Look at her face, it's a wonderful face  \\nAnd...</td>\n",
       "    </tr>\n",
       "    <tr>\n",
       "      <th>1</th>\n",
       "      <td>ABBA</td>\n",
       "      <td>Andante, Andante</td>\n",
       "      <td>/a/abba/andante+andante_20002708.html</td>\n",
       "      <td>Take it easy with me, please  \\nTouch me gentl...</td>\n",
       "    </tr>\n",
       "    <tr>\n",
       "      <th>2</th>\n",
       "      <td>ABBA</td>\n",
       "      <td>As Good As New</td>\n",
       "      <td>/a/abba/as+good+as+new_20003033.html</td>\n",
       "      <td>I'll never know why I had to go  \\nWhy I had t...</td>\n",
       "    </tr>\n",
       "    <tr>\n",
       "      <th>3</th>\n",
       "      <td>ABBA</td>\n",
       "      <td>Bang</td>\n",
       "      <td>/a/abba/bang_20598415.html</td>\n",
       "      <td>Making somebody happy is a question of give an...</td>\n",
       "    </tr>\n",
       "    <tr>\n",
       "      <th>4</th>\n",
       "      <td>ABBA</td>\n",
       "      <td>Bang-A-Boomerang</td>\n",
       "      <td>/a/abba/bang+a+boomerang_20002668.html</td>\n",
       "      <td>Making somebody happy is a question of give an...</td>\n",
       "    </tr>\n",
       "  </tbody>\n",
       "</table>\n",
       "</div>"
      ],
      "text/plain": [
       "  artist                   song                                        link  \\\n",
       "0   ABBA  Ahe's My Kind Of Girl  /a/abba/ahes+my+kind+of+girl_20598417.html   \n",
       "1   ABBA       Andante, Andante       /a/abba/andante+andante_20002708.html   \n",
       "2   ABBA         As Good As New        /a/abba/as+good+as+new_20003033.html   \n",
       "3   ABBA                   Bang                  /a/abba/bang_20598415.html   \n",
       "4   ABBA       Bang-A-Boomerang      /a/abba/bang+a+boomerang_20002668.html   \n",
       "\n",
       "                                                text  \n",
       "0  Look at her face, it's a wonderful face  \\nAnd...  \n",
       "1  Take it easy with me, please  \\nTouch me gentl...  \n",
       "2  I'll never know why I had to go  \\nWhy I had t...  \n",
       "3  Making somebody happy is a question of give an...  \n",
       "4  Making somebody happy is a question of give an...  "
      ]
     },
     "execution_count": 53,
     "metadata": {},
     "output_type": "execute_result"
    }
   ],
   "source": [
    "songdata.head()"
   ]
  },
  {
   "cell_type": "markdown",
   "id": "c59fa424",
   "metadata": {},
   "source": [
    "# Data set is so big so we are working with 10000 songs"
   ]
  },
  {
   "cell_type": "code",
   "execution_count": 54,
   "id": "2ff8df8e",
   "metadata": {},
   "outputs": [],
   "source": [
    "songdata = songdata.sample(n=10000).drop('link', axis=1).reset_index(drop=True)\n"
   ]
  },
  {
   "cell_type": "code",
   "execution_count": 55,
   "id": "f3aac2b2",
   "metadata": {},
   "outputs": [
    {
     "data": {
      "text/html": [
       "<div>\n",
       "<style scoped>\n",
       "    .dataframe tbody tr th:only-of-type {\n",
       "        vertical-align: middle;\n",
       "    }\n",
       "\n",
       "    .dataframe tbody tr th {\n",
       "        vertical-align: top;\n",
       "    }\n",
       "\n",
       "    .dataframe thead th {\n",
       "        text-align: right;\n",
       "    }\n",
       "</style>\n",
       "<table border=\"1\" class=\"dataframe\">\n",
       "  <thead>\n",
       "    <tr style=\"text-align: right;\">\n",
       "      <th></th>\n",
       "      <th>artist</th>\n",
       "      <th>song</th>\n",
       "      <th>text</th>\n",
       "    </tr>\n",
       "  </thead>\n",
       "  <tbody>\n",
       "    <tr>\n",
       "      <th>0</th>\n",
       "      <td>Regine Velasquez</td>\n",
       "      <td>Tell Me</td>\n",
       "      <td>There are nights  \\nWhen I can't help but cry ...</td>\n",
       "    </tr>\n",
       "    <tr>\n",
       "      <th>1</th>\n",
       "      <td>Our Lady Peace</td>\n",
       "      <td>Ordinary</td>\n",
       "      <td>Unreleased rarity played live  \\n  \\nDoes it h...</td>\n",
       "    </tr>\n",
       "    <tr>\n",
       "      <th>2</th>\n",
       "      <td>Queen</td>\n",
       "      <td>Pain Is So Close To Pleasure</td>\n",
       "      <td>Ooh, ooh, pain is so close to pleasure, oh yea...</td>\n",
       "    </tr>\n",
       "    <tr>\n",
       "      <th>3</th>\n",
       "      <td>Oscar Hammerstein</td>\n",
       "      <td>My Lord And Master</td>\n",
       "      <td>[Spoken] The King is pleased!  \\nHe is pleased...</td>\n",
       "    </tr>\n",
       "    <tr>\n",
       "      <th>4</th>\n",
       "      <td>Tragically Hip</td>\n",
       "      <td>Membership</td>\n",
       "      <td>Whether laying down yourself beside it  \\nOr s...</td>\n",
       "    </tr>\n",
       "    <tr>\n",
       "      <th>...</th>\n",
       "      <td>...</td>\n",
       "      <td>...</td>\n",
       "      <td>...</td>\n",
       "    </tr>\n",
       "    <tr>\n",
       "      <th>9995</th>\n",
       "      <td>Dream Theater</td>\n",
       "      <td>Status Seeker</td>\n",
       "      <td>Heart sick at the sight of the  \\nStatus Seeke...</td>\n",
       "    </tr>\n",
       "    <tr>\n",
       "      <th>9996</th>\n",
       "      <td>Bob Rivers</td>\n",
       "      <td>Pokemon</td>\n",
       "      <td>Pokemon mon mon mon  \\nLots of money mon mon m...</td>\n",
       "    </tr>\n",
       "    <tr>\n",
       "      <th>9997</th>\n",
       "      <td>Peter Cetera</td>\n",
       "      <td>Still Getting Over You</td>\n",
       "      <td>Since you went away  \\nCan't face the day  \\nJ...</td>\n",
       "    </tr>\n",
       "    <tr>\n",
       "      <th>9998</th>\n",
       "      <td>Horrible Histories</td>\n",
       "      <td>Cleopatra: I Can't Go On</td>\n",
       "      <td>Deafeated by Octavian , who we , we don't resp...</td>\n",
       "    </tr>\n",
       "    <tr>\n",
       "      <th>9999</th>\n",
       "      <td>Drake</td>\n",
       "      <td>Unstoppable</td>\n",
       "      <td>My name is Drizzy  \\nAnd I ain't perfect  \\nBu...</td>\n",
       "    </tr>\n",
       "  </tbody>\n",
       "</table>\n",
       "<p>10000 rows × 3 columns</p>\n",
       "</div>"
      ],
      "text/plain": [
       "                  artist                          song  \\\n",
       "0       Regine Velasquez                       Tell Me   \n",
       "1         Our Lady Peace                      Ordinary   \n",
       "2                  Queen  Pain Is So Close To Pleasure   \n",
       "3      Oscar Hammerstein            My Lord And Master   \n",
       "4         Tragically Hip                    Membership   \n",
       "...                  ...                           ...   \n",
       "9995       Dream Theater                 Status Seeker   \n",
       "9996          Bob Rivers                       Pokemon   \n",
       "9997        Peter Cetera        Still Getting Over You   \n",
       "9998  Horrible Histories      Cleopatra: I Can't Go On   \n",
       "9999               Drake                   Unstoppable   \n",
       "\n",
       "                                                   text  \n",
       "0     There are nights  \\nWhen I can't help but cry ...  \n",
       "1     Unreleased rarity played live  \\n  \\nDoes it h...  \n",
       "2     Ooh, ooh, pain is so close to pleasure, oh yea...  \n",
       "3     [Spoken] The King is pleased!  \\nHe is pleased...  \n",
       "4     Whether laying down yourself beside it  \\nOr s...  \n",
       "...                                                 ...  \n",
       "9995  Heart sick at the sight of the  \\nStatus Seeke...  \n",
       "9996  Pokemon mon mon mon  \\nLots of money mon mon m...  \n",
       "9997  Since you went away  \\nCan't face the day  \\nJ...  \n",
       "9998  Deafeated by Octavian , who we , we don't resp...  \n",
       "9999  My name is Drizzy  \\nAnd I ain't perfect  \\nBu...  \n",
       "\n",
       "[10000 rows x 3 columns]"
      ]
     },
     "execution_count": 55,
     "metadata": {},
     "output_type": "execute_result"
    }
   ],
   "source": [
    "songdata"
   ]
  },
  {
   "cell_type": "code",
   "execution_count": 73,
   "id": "b34a7d61",
   "metadata": {},
   "outputs": [
    {
     "data": {
      "text/html": [
       "<div>\n",
       "<style scoped>\n",
       "    .dataframe tbody tr th:only-of-type {\n",
       "        vertical-align: middle;\n",
       "    }\n",
       "\n",
       "    .dataframe tbody tr th {\n",
       "        vertical-align: top;\n",
       "    }\n",
       "\n",
       "    .dataframe thead th {\n",
       "        text-align: right;\n",
       "    }\n",
       "</style>\n",
       "<table border=\"1\" class=\"dataframe\">\n",
       "  <thead>\n",
       "    <tr style=\"text-align: right;\">\n",
       "      <th></th>\n",
       "      <th>song</th>\n",
       "      <th>text</th>\n",
       "    </tr>\n",
       "    <tr>\n",
       "      <th>artist</th>\n",
       "      <th></th>\n",
       "      <th></th>\n",
       "    </tr>\n",
       "  </thead>\n",
       "  <tbody>\n",
       "    <tr>\n",
       "      <th>'n Sync</th>\n",
       "      <td>23</td>\n",
       "      <td>23</td>\n",
       "    </tr>\n",
       "    <tr>\n",
       "      <th>ABBA</th>\n",
       "      <td>24</td>\n",
       "      <td>24</td>\n",
       "    </tr>\n",
       "    <tr>\n",
       "      <th>Ace Of Base</th>\n",
       "      <td>10</td>\n",
       "      <td>10</td>\n",
       "    </tr>\n",
       "    <tr>\n",
       "      <th>Adam Sandler</th>\n",
       "      <td>16</td>\n",
       "      <td>16</td>\n",
       "    </tr>\n",
       "    <tr>\n",
       "      <th>Adele</th>\n",
       "      <td>10</td>\n",
       "      <td>10</td>\n",
       "    </tr>\n",
       "    <tr>\n",
       "      <th>...</th>\n",
       "      <td>...</td>\n",
       "      <td>...</td>\n",
       "    </tr>\n",
       "    <tr>\n",
       "      <th>Zoegirl</th>\n",
       "      <td>11</td>\n",
       "      <td>11</td>\n",
       "    </tr>\n",
       "    <tr>\n",
       "      <th>Zornik</th>\n",
       "      <td>4</td>\n",
       "      <td>4</td>\n",
       "    </tr>\n",
       "    <tr>\n",
       "      <th>Zox</th>\n",
       "      <td>2</td>\n",
       "      <td>2</td>\n",
       "    </tr>\n",
       "    <tr>\n",
       "      <th>Zucchero</th>\n",
       "      <td>5</td>\n",
       "      <td>5</td>\n",
       "    </tr>\n",
       "    <tr>\n",
       "      <th>Zwan</th>\n",
       "      <td>1</td>\n",
       "      <td>1</td>\n",
       "    </tr>\n",
       "  </tbody>\n",
       "</table>\n",
       "<p>628 rows × 2 columns</p>\n",
       "</div>"
      ],
      "text/plain": [
       "              song  text\n",
       "artist                  \n",
       "'n Sync         23    23\n",
       "ABBA            24    24\n",
       "Ace Of Base     10    10\n",
       "Adam Sandler    16    16\n",
       "Adele           10    10\n",
       "...            ...   ...\n",
       "Zoegirl         11    11\n",
       "Zornik           4     4\n",
       "Zox              2     2\n",
       "Zucchero         5     5\n",
       "Zwan             1     1\n",
       "\n",
       "[628 rows x 2 columns]"
      ]
     },
     "execution_count": 73,
     "metadata": {},
     "output_type": "execute_result"
    }
   ],
   "source": [
    "songdata.groupby([\"artist\"]).count()"
   ]
  },
  {
   "cell_type": "markdown",
   "id": "8d6f8d98",
   "metadata": {},
   "source": [
    "# Visualization"
   ]
  },
  {
   "cell_type": "code",
   "execution_count": 74,
   "id": "d079762b",
   "metadata": {},
   "outputs": [
    {
     "data": {
      "image/png": "[encoded data removed]",
      "text/plain": [
       "<Figure size 640x480 with 1 Axes>"
      ]
     },
     "metadata": {},
     "output_type": "display_data"
    }
   ],
   "source": [
    "import matplotlib.pyplot as plt\n",
    "plt.hist(songdata['artist'], bins=20)\n",
    "plt.xlabel('artist')\n",
    "plt.ylabel('Frequency')\n",
    "plt.title('Histogram of Feature')\n",
    "plt.show()"
   ]
  },
  {
   "cell_type": "markdown",
   "id": "be0d3396",
   "metadata": {},
   "source": [
    "# we observed that there is \\n in text  are going to remove \\n "
   ]
  },
  {
   "cell_type": "code",
   "execution_count": 56,
   "id": "b1424241",
   "metadata": {},
   "outputs": [],
   "source": [
    "songdata['text'] = songdata['text'].str.replace(r'\\n', '')"
   ]
  },
  {
   "cell_type": "code",
   "execution_count": 57,
   "id": "a8495046",
   "metadata": {},
   "outputs": [
    {
     "data": {
      "text/html": [
       "<div>\n",
       "<style scoped>\n",
       "    .dataframe tbody tr th:only-of-type {\n",
       "        vertical-align: middle;\n",
       "    }\n",
       "\n",
       "    .dataframe tbody tr th {\n",
       "        vertical-align: top;\n",
       "    }\n",
       "\n",
       "    .dataframe thead th {\n",
       "        text-align: right;\n",
       "    }\n",
       "</style>\n",
       "<table border=\"1\" class=\"dataframe\">\n",
       "  <thead>\n",
       "    <tr style=\"text-align: right;\">\n",
       "      <th></th>\n",
       "      <th>artist</th>\n",
       "      <th>song</th>\n",
       "      <th>text</th>\n",
       "    </tr>\n",
       "  </thead>\n",
       "  <tbody>\n",
       "    <tr>\n",
       "      <th>0</th>\n",
       "      <td>Regine Velasquez</td>\n",
       "      <td>Tell Me</td>\n",
       "      <td>There are nights  When I can't help but cry  A...</td>\n",
       "    </tr>\n",
       "    <tr>\n",
       "      <th>1</th>\n",
       "      <td>Our Lady Peace</td>\n",
       "      <td>Ordinary</td>\n",
       "      <td>Unreleased rarity played live    Does it have ...</td>\n",
       "    </tr>\n",
       "    <tr>\n",
       "      <th>2</th>\n",
       "      <td>Queen</td>\n",
       "      <td>Pain Is So Close To Pleasure</td>\n",
       "      <td>Ooh, ooh, pain is so close to pleasure, oh yea...</td>\n",
       "    </tr>\n",
       "    <tr>\n",
       "      <th>3</th>\n",
       "      <td>Oscar Hammerstein</td>\n",
       "      <td>My Lord And Master</td>\n",
       "      <td>[Spoken] The King is pleased!  He is pleased w...</td>\n",
       "    </tr>\n",
       "    <tr>\n",
       "      <th>4</th>\n",
       "      <td>Tragically Hip</td>\n",
       "      <td>Membership</td>\n",
       "      <td>Whether laying down yourself beside it  Or sli...</td>\n",
       "    </tr>\n",
       "    <tr>\n",
       "      <th>...</th>\n",
       "      <td>...</td>\n",
       "      <td>...</td>\n",
       "      <td>...</td>\n",
       "    </tr>\n",
       "    <tr>\n",
       "      <th>9995</th>\n",
       "      <td>Dream Theater</td>\n",
       "      <td>Status Seeker</td>\n",
       "      <td>Heart sick at the sight of the  Status Seeker ...</td>\n",
       "    </tr>\n",
       "    <tr>\n",
       "      <th>9996</th>\n",
       "      <td>Bob Rivers</td>\n",
       "      <td>Pokemon</td>\n",
       "      <td>Pokemon mon mon mon  Lots of money mon mon mon...</td>\n",
       "    </tr>\n",
       "    <tr>\n",
       "      <th>9997</th>\n",
       "      <td>Peter Cetera</td>\n",
       "      <td>Still Getting Over You</td>\n",
       "      <td>Since you went away  Can't face the day  Just ...</td>\n",
       "    </tr>\n",
       "    <tr>\n",
       "      <th>9998</th>\n",
       "      <td>Horrible Histories</td>\n",
       "      <td>Cleopatra: I Can't Go On</td>\n",
       "      <td>Deafeated by Octavian , who we , we don't resp...</td>\n",
       "    </tr>\n",
       "    <tr>\n",
       "      <th>9999</th>\n",
       "      <td>Drake</td>\n",
       "      <td>Unstoppable</td>\n",
       "      <td>My name is Drizzy  And I ain't perfect  But I ...</td>\n",
       "    </tr>\n",
       "  </tbody>\n",
       "</table>\n",
       "<p>10000 rows × 3 columns</p>\n",
       "</div>"
      ],
      "text/plain": [
       "                  artist                          song  \\\n",
       "0       Regine Velasquez                       Tell Me   \n",
       "1         Our Lady Peace                      Ordinary   \n",
       "2                  Queen  Pain Is So Close To Pleasure   \n",
       "3      Oscar Hammerstein            My Lord And Master   \n",
       "4         Tragically Hip                    Membership   \n",
       "...                  ...                           ...   \n",
       "9995       Dream Theater                 Status Seeker   \n",
       "9996          Bob Rivers                       Pokemon   \n",
       "9997        Peter Cetera        Still Getting Over You   \n",
       "9998  Horrible Histories      Cleopatra: I Can't Go On   \n",
       "9999               Drake                   Unstoppable   \n",
       "\n",
       "                                                   text  \n",
       "0     There are nights  When I can't help but cry  A...  \n",
       "1     Unreleased rarity played live    Does it have ...  \n",
       "2     Ooh, ooh, pain is so close to pleasure, oh yea...  \n",
       "3     [Spoken] The King is pleased!  He is pleased w...  \n",
       "4     Whether laying down yourself beside it  Or sli...  \n",
       "...                                                 ...  \n",
       "9995  Heart sick at the sight of the  Status Seeker ...  \n",
       "9996  Pokemon mon mon mon  Lots of money mon mon mon...  \n",
       "9997  Since you went away  Can't face the day  Just ...  \n",
       "9998  Deafeated by Octavian , who we , we don't resp...  \n",
       "9999  My name is Drizzy  And I ain't perfect  But I ...  \n",
       "\n",
       "[10000 rows x 3 columns]"
      ]
     },
     "execution_count": 57,
     "metadata": {},
     "output_type": "execute_result"
    }
   ],
   "source": [
    "songdata"
   ]
  },
  {
   "cell_type": "code",
   "execution_count": 58,
   "id": "1a7b08dd",
   "metadata": {},
   "outputs": [],
   "source": [
    "from sklearn.feature_extraction.text import TfidfVectorizer\n",
    "from sklearn.metrics.pairwise import cosine_similarity"
   ]
  },
  {
   "cell_type": "raw",
   "id": "084c275c",
   "metadata": {},
   "source": [
    "# After that, we use TF-IDF vectorizerthat calculates the TF-IDF score for each song lyric, word-by-word. \n",
    "# It is calculated as the number of times a term appears in a document divided by the total number of terms in the document. \n",
    "# The idea behind TF is that words with higher frequencies are more important or relevant to the document's content.\n",
    "# Stop words are common words that are often filtered out because they carry little meaning, such as \"and,\" \"the,\" \"is,\" etc."
   ]
  },
  {
   "cell_type": "code",
   "execution_count": 59,
   "id": "e87c9e0b",
   "metadata": {},
   "outputs": [],
   "source": [
    "tfidf = TfidfVectorizer(analyzer='word', stop_words='english')"
   ]
  },
  {
   "cell_type": "code",
   "execution_count": 60,
   "id": "93ee4083",
   "metadata": {},
   "outputs": [],
   "source": [
    "lyrics_matrix = tfidf.fit_transform(songdata['text'])\n"
   ]
  },
  {
   "cell_type": "raw",
   "id": "7331ece1",
   "metadata": {},
   "source": [
    "# We now need to calculate the similarity of one lyric to another. We are going to use **cosine similarity**.\n",
    "\n",
    "We want to calculate the cosine similarity of each item with every other item in the dataset. So we just pass the lyrics_matrix as argument."
   ]
  },
  {
   "cell_type": "code",
   "execution_count": 61,
   "id": "a1248893",
   "metadata": {},
   "outputs": [],
   "source": [
    "cosine_similarities = cosine_similarity(lyrics_matrix) "
   ]
  },
  {
   "cell_type": "code",
   "execution_count": 62,
   "id": "895146de",
   "metadata": {},
   "outputs": [
    {
     "data": {
      "text/plain": [
       "array([[1.        , 0.        , 0.03070293, ..., 0.03687835, 0.03192392,\n",
       "        0.02056404],\n",
       "       [0.        , 1.        , 0.01842706, ..., 0.01199744, 0.00596097,\n",
       "        0.0611488 ],\n",
       "       [0.03070293, 0.01842706, 1.        , ..., 0.01861177, 0.01102796,\n",
       "        0.01309854],\n",
       "       ...,\n",
       "       [0.03687835, 0.01199744, 0.01861177, ..., 1.        , 0.00342328,\n",
       "        0.00350295],\n",
       "       [0.03192392, 0.00596097, 0.01102796, ..., 0.00342328, 1.        ,\n",
       "        0.01173366],\n",
       "       [0.02056404, 0.0611488 , 0.01309854, ..., 0.00350295, 0.01173366,\n",
       "        1.        ]])"
      ]
     },
     "execution_count": 62,
     "metadata": {},
     "output_type": "execute_result"
    }
   ],
   "source": [
    "cosine_similarities"
   ]
  },
  {
   "cell_type": "code",
   "execution_count": null,
   "id": "c86cbef4",
   "metadata": {},
   "outputs": [],
   "source": [
    "# Now we'll sort each element in cosine_similarities and get the indexes of the songs. \n",
    "## After that, we'll store in similarities each name of the 50 most similar songs.\n",
    "# Except the first one that is the same song."
   ]
  },
  {
   "cell_type": "code",
   "execution_count": 27,
   "id": "36738695",
   "metadata": {},
   "outputs": [],
   "source": []
  },
  {
   "cell_type": "code",
   "execution_count": 64,
   "id": "8c40d216",
   "metadata": {},
   "outputs": [],
   "source": [
    "similarities = {}\n",
    "for i in range(len(cosine_similarities)):\n",
    "    \n",
    "    similar_indices = cosine_similarities[i].argsort()[:-50:-1] \n",
    "\n",
    "    similarities[songdata['song'].iloc[i]] = [(cosine_similarities[i][x], songdata['song'][x], songdata['artist'][x]) for x in similar_indices][1:]"
   ]
  },
  {
   "cell_type": "code",
   "execution_count": null,
   "id": "be7637d4",
   "metadata": {},
   "outputs": [],
   "source": [
    "# After that, We can use that similarity scores to access the most similar items and give a recommendation.\n",
    "\n",
    "# For that, we'll define our Content based recommender class.\n"
   ]
  },
  {
   "cell_type": "code",
   "execution_count": 65,
   "id": "13f61d12",
   "metadata": {},
   "outputs": [],
   "source": [
    "class ContentBasedRecommender:\n",
    "    def __init__(self, matrix):\n",
    "        self.matrix_similar = matrix\n",
    "\n",
    "    def _print_message(self, song, recom_song):\n",
    "        rec_items = len(recom_song)\n",
    "        \n",
    "        print(f'The {rec_items} recommended songs for {song} are:')\n",
    "        for i in range(rec_items):\n",
    "            print(f\"Number {i+1}:\")\n",
    "            print(f\"{recom_song[i][1]} by {recom_song[i][2]} with {round(recom_song[i][0], 3)} similarity score\") \n",
    "            print(\"--------------------\")\n",
    "        \n",
    "    def recommend(self, recommendation):\n",
    "        song = recommendation['song']\n",
    "        # Get number of songs to recommend\n",
    "        number_songs = recommendation['number_songs']\n",
    "        # Get the number of songs most similars from matrix similarities\n",
    "        recom_song = self.matrix_similar[song][:number_songs]\n",
    "        # print each item\n",
    "        self._print_message(song=song, recom_song=recom_song)"
   ]
  },
  {
   "cell_type": "code",
   "execution_count": 66,
   "id": "7b2b8096",
   "metadata": {},
   "outputs": [],
   "source": [
    "recommedations = ContentBasedRecommender(similarities)"
   ]
  },
  {
   "cell_type": "code",
   "execution_count": 67,
   "id": "d2a1c59f",
   "metadata": {},
   "outputs": [
    {
     "data": {
      "text/plain": [
       "<__main__.ContentBasedRecommender at 0x1cf6af2ffa0>"
      ]
     },
     "execution_count": 67,
     "metadata": {},
     "output_type": "execute_result"
    }
   ],
   "source": [
    "recommedations"
   ]
  },
  {
   "cell_type": "code",
   "execution_count": 68,
   "id": "d9a7a92d",
   "metadata": {},
   "outputs": [],
   "source": [
    "recommendation = {\n",
    "    \"song\": songdata['song'].iloc[100],\n",
    "    \"number_songs\": 4 \n",
    "}"
   ]
  },
  {
   "cell_type": "code",
   "execution_count": 69,
   "id": "99a7a07f",
   "metadata": {},
   "outputs": [
    {
     "name": "stdout",
     "output_type": "stream",
     "text": [
      "The 4 recommended songs for Rock 'n Roll Rebel are:\n",
      "Number 1:\n",
      "It's Only Rock N Roll by Rolling Stones with 0.404 similarity score\n",
      "--------------------\n",
      "Number 2:\n",
      "Come On by Whitesnake with 0.385 similarity score\n",
      "--------------------\n",
      "Number 3:\n",
      "Long Live Rock 'n' Roll by Rainbow with 0.376 similarity score\n",
      "--------------------\n",
      "Number 4:\n",
      "Top Of The Bill by Scorpions with 0.367 similarity score\n",
      "--------------------\n"
     ]
    }
   ],
   "source": [
    "recommedations.recommend(recommendation)"
   ]
  },
  {
   "cell_type": "code",
   "execution_count": 70,
   "id": "5599a9cc",
   "metadata": {},
   "outputs": [],
   "source": [
    "recommendation2 = {\n",
    "    \"song\": songdata['song'].iloc[200],\n",
    "    \"number_songs\": 4 \n",
    "}"
   ]
  },
  {
   "cell_type": "code",
   "execution_count": 71,
   "id": "8bccdb48",
   "metadata": {},
   "outputs": [
    {
     "name": "stdout",
     "output_type": "stream",
     "text": [
      "The 4 recommended songs for Heartlight are:\n",
      "Number 1:\n",
      "Gold Lion by Yeah Yeah Yeahs with 0.488 similarity score\n",
      "--------------------\n",
      "Number 2:\n",
      "4 Broken Hearts by Norah Jones with 0.479 similarity score\n",
      "--------------------\n",
      "Number 3:\n",
      "The Great Pretender by Queen with 0.477 similarity score\n",
      "--------------------\n",
      "Number 4:\n",
      "It's Over by Phil Collins with 0.47 similarity score\n",
      "--------------------\n"
     ]
    }
   ],
   "source": [
    "recommedations.recommend(recommendation2)"
   ]
  },
  {
   "cell_type": "code",
   "execution_count": null,
   "id": "ea909bc2",
   "metadata": {},
   "outputs": [],
   "source": []
  },
  {
   "cell_type": "code",
   "execution_count": null,
   "id": "7ee43765",
   "metadata": {},
   "outputs": [],
   "source": []
  }
 ],
 "metadata": {
  "kernelspec": {
   "display_name": "Python 3 (ipykernel)",
   "language": "python",
   "name": "python3"
  },
  "language_info": {
   "codemirror_mode": {
    "name": "ipython",
    "version": 3
   },
   "file_extension": ".py",
   "mimetype": "text/x-python",
   "name": "python",
   "nbconvert_exporter": "python",
   "pygments_lexer": "ipython3",
   "version": "3.10.9"
  }
 },
 "nbformat": 4,
 "nbformat_minor": 5
}
